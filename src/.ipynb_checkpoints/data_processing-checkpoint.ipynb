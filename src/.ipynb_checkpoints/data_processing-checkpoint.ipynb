{
 "cells": [
  {
   "cell_type": "code",
   "execution_count": 43,
   "metadata": {},
   "outputs": [
    {
     "name": "stdout",
     "output_type": "stream",
     "text": [
      "aa\n",
      "C:\\Users\\mynam\\Documents\\GitHub\\Video-Player-Controlled-by-Action-Recognition_wkr\\src\n"
     ]
    }
   ],
   "source": [
    "# Test\n",
    "\n",
    "import csv\n",
    "import glob, os\n",
    "import pandas as pd\n",
    "\n",
    "print('aa')\n",
    "print(os.path.abspath('.'))"
   ]
  },
  {
   "cell_type": "code",
   "execution_count": 80,
   "metadata": {},
   "outputs": [],
   "source": [
    "# initialisation\n",
    "featureDict = {'down': {} , 'up': {}, 'left': {}, 'right': {}, 'fist': {}}\n"
   ]
  },
  {
   "cell_type": "code",
   "execution_count": null,
   "metadata": {},
   "outputs": [],
   "source": [
    "# TODO: label"
   ]
  },
  {
   "cell_type": "code",
   "execution_count": 102,
   "metadata": {},
   "outputs": [
    {
     "name": "stdout",
     "output_type": "stream",
     "text": [
      "C:\\Users\\mynam\\Documents\\GitHub\\Video-Player-Controlled-by-Action-Recognition_wkr\\src\\Dataset\\hyqData\\fist\n"
     ]
    }
   ],
   "source": [
    "import math\n",
    "import numpy as np\n",
    "import csv\n",
    "import glob, os\n",
    "import pandas as pd\n",
    "\n",
    "# locate folers\n",
    "currentAction = 'fist'\n",
    "filePath = os.path.abspath('./Dataset/hyqData/' + currentAction)\n",
    "\n",
    "print(filePath)\n",
    "\n",
    "\n",
    "file = glob.glob(os.path.join(filePath, \"*.csv\"))\n",
    "\n",
    "\n",
    "dl = []\n",
    "for f in file:\n",
    "    dl.append(pd.read_csv(f, header=None))\n",
    "    \n",
    "    \n",
    "\n",
    "# obtain each EMG channel data\n",
    "emg_1=[]\n",
    "emg_2=[]\n",
    "emg_3=[]\n",
    "\n",
    "featureList = []\n",
    "\n",
    "index=0\n",
    "i=0\n",
    "for index in range(len(dl)): # access all csv files\n",
    "    \n",
    "    for i in range(len(dl[index].values.tolist())): # access all recorded samples\n",
    "        emg_1.append(dl[index].values.tolist()[i][0])\n",
    "        emg_2.append(dl[index].values.tolist()[i][1])\n",
    "        emg_3.append(dl[index].values.tolist()[i][2])\n",
    "\n",
    "    \n",
    "    ### calculate time-domain features\n",
    "\n",
    "    # Mean Absolute Value\n",
    "    MAV_emg_1 = 0\n",
    "    MAV_emg_2 = 0\n",
    "    MAV_emg_3 = 0\n",
    "    # Wavelength\n",
    "    WL_emg_1 = 0\n",
    "    WL_emg_2 = 0\n",
    "    WL_emg_3 = 0\n",
    "    # Slope Sign Changes\n",
    "    SSCthreshold = 0 # TODO: detemine the threshold\n",
    "    SSC_emg_1 = 0\n",
    "    SSC_emg_2 = 0\n",
    "    SSC_emg_3 = 0\n",
    "    # Zero Crossing: we don't have, do we?\n",
    "    ZC_emg_1 = 0\n",
    "    ZC_emg_2 = 0\n",
    "    ZC_emg_3 = 0\n",
    "    # Root Mean Square\n",
    "    RMS_emg_1 = 0.0\n",
    "    RMS_emg_2 = 0.0\n",
    "    RMS_emg_3 = 0.0\n",
    "\n",
    "    i=0\n",
    "    temp1=0\n",
    "    temp2=0\n",
    "    temp3=0\n",
    "    temp4=0\n",
    "    temp5=0\n",
    "    temp6=0\n",
    "    temp7=0.0\n",
    "    temp8=0.0\n",
    "    temp9=0.0\n",
    "    for i in range(len(emg_3)):\n",
    "        temp1 = temp1 + abs(int(emg_1[i]))\n",
    "        temp2 = temp2 + abs(int(emg_2[i]))\n",
    "        temp3 = temp3 + abs(int(emg_3[i]))\n",
    "        temp7 = temp7 + (int(emg_1[i]))**2\n",
    "        temp8 = temp8 + (int(emg_2[i]))**2\n",
    "        temp9 = temp9 + (int(emg_3[i]))**2\n",
    "\n",
    "        if(i>0):\n",
    "            WL_emg_1 = WL_emg_1 + abs(int(emg_1[i]) - int(emg_1[i-1]))\n",
    "            WL_emg_2 = WL_emg_2 + abs(int(emg_2[i]) - int(emg_2[i-1]))\n",
    "            WL_emg_3 = WL_emg_3 + abs(int(emg_3[i]) - int(emg_3[i-1]))\n",
    "\n",
    "        if(i>1):\n",
    "            temp4 = (int(emg_1[i-1]) - int(emg_1[i-2])) * (int(emg_1[i-1]) - int(emg_1[i]))\n",
    "            temp5 = (int(emg_2[i-1]) - int(emg_2[i-2])) * (int(emg_2[i-1]) - int(emg_2[i]))\n",
    "            temp6 = (int(emg_3[i-1]) - int(emg_3[i-2])) * (int(emg_3[i-1]) - int(emg_3[i]))\n",
    "            if temp4 >= SSCthreshold:\n",
    "                SSC_emg_1 = SSC_emg_1 + 1\n",
    "            if temp5 >= SSCthreshold:\n",
    "                SSC_emg_2 = SSC_emg_2 + 1\n",
    "            if temp6 >= SSCthreshold:\n",
    "                SSC_emg_3 = SSC_emg_3 + 1\n",
    "\n",
    "\n",
    "\n",
    "        MAV_emg_1 = temp1/len(emg_1)\n",
    "        MAV_emg_2 = temp2/len(emg_2)\n",
    "        MAV_emg_3 = temp3/len(emg_3)\n",
    "\n",
    "        RMS_emg_1 = math.sqrt(temp7/len(emg_1))\n",
    "        RMS_emg_2 = math.sqrt(temp8/len(emg_2))\n",
    "        RMS_emg_3 = math.sqrt(temp9/len(emg_3))\n",
    "        \n",
    "    featureDict[currentAction][index] = [MAV_emg_1, MAV_emg_2, MAV_emg_3, WL_emg_1, WL_emg_2, WL_emg_3, SSC_emg_1, SSC_emg_2, SSC_emg_3, RMS_emg_1, RMS_emg_2, RMS_emg_3]\n",
    "\n",
    "\n",
    "# print(MAV_emg_1, MAV_emg_2, MAV_emg_3)\n",
    "# print(WL_emg_1, WL_emg_2, WL_emg_3)\n",
    "# print(SSC_emg_1, SSC_emg_2, SSC_emg_3)\n",
    "# print(RMS_emg_1, RMS_emg_2, RMS_emg_3)\n"
   ]
  },
  {
   "cell_type": "code",
   "execution_count": 108,
   "metadata": {},
   "outputs": [
    {
     "name": "stdout",
     "output_type": "stream",
     "text": [
      "dict_keys(['down', 'up', 'left', 'right', 'fist'])\n",
      "25\n",
      "25\n",
      "25\n",
      "25\n",
      "30\n",
      "[39.693333333333335, 55.17666666666667, 74.89666666666666, 499, 522, 1652, 219, 196, 215, 46.753894668430206, 64.37931862536809, 170.15286264611203]\n",
      "[17.243333333333332, 171.14, 105.74333333333334, 40, 1030, 610, 297, 147, 157, 17.271460081108756, 216.06070134725258, 131.5700700514115]\n",
      "[52.26, 71.05666666666667, 18.476666666666667, 964, 774, 168, 227, 198, 255, 85.64395289024594, 101.17929630117023, 27.522899556551085]\n",
      "[59.38, 72.19, 59.7, 966, 705, 1261, 195, 174, 232, 76.48424674401913, 85.48288327690716, 137.3561550616984]\n",
      "[58.67666666666667, 118.07333333333334, 32.553333333333335, 1285, 1341, 802, 226, 168, 234, 103.38170373265604, 130.02540777350657, 53.41891050929436]\n"
     ]
    }
   ],
   "source": [
    "print(featureDict.keys())\n",
    "print(len(featureDict['down']))\n",
    "print(len(featureDict['up']))\n",
    "print(len(featureDict['left']))\n",
    "print(len(featureDict['right']))\n",
    "print(len(featureDict['fist']))\n",
    "print(featureDict['down'][0])\n",
    "print(featureDict['up'][0])\n",
    "print(featureDict['left'][0])\n",
    "print(featureDict['right'][0])\n",
    "print(featureDict['fist'][0])\n"
   ]
  },
  {
   "cell_type": "code",
   "execution_count": null,
   "metadata": {},
   "outputs": [],
   "source": []
  },
  {
   "cell_type": "code",
   "execution_count": 199,
   "metadata": {},
   "outputs": [
    {
     "ename": "TypeError",
     "evalue": "fit() got an unexpected keyword argument 'nb_epoch'",
     "output_type": "error",
     "traceback": [
      "\u001b[1;31m---------------------------------------------------------------------------\u001b[0m",
      "\u001b[1;31mTypeError\u001b[0m                                 Traceback (most recent call last)",
      "\u001b[1;32m<ipython-input-199-58f9438c8f93>\u001b[0m in \u001b[0;36m<module>\u001b[1;34m\u001b[0m\n\u001b[0;32m     36\u001b[0m               \u001b[0moptimizer\u001b[0m\u001b[1;33m=\u001b[0m\u001b[0mopt\u001b[0m\u001b[1;33m,\u001b[0m\u001b[1;33m\u001b[0m\u001b[1;33m\u001b[0m\u001b[0m\n\u001b[0;32m     37\u001b[0m               metrics=['accuracy'])\n\u001b[1;32m---> 38\u001b[1;33m \u001b[0mmodel\u001b[0m\u001b[1;33m.\u001b[0m\u001b[0mfit\u001b[0m\u001b[1;33m(\u001b[0m\u001b[0mx_train\u001b[0m\u001b[1;33m,\u001b[0m \u001b[0my_train\u001b[0m\u001b[1;33m,\u001b[0m \u001b[0mnb_epoch\u001b[0m\u001b[1;33m=\u001b[0m\u001b[1;36m150\u001b[0m\u001b[1;33m,\u001b[0m \u001b[0mbatch_size\u001b[0m\u001b[1;33m=\u001b[0m\u001b[1;36m10\u001b[0m\u001b[1;33m)\u001b[0m\u001b[1;33m\u001b[0m\u001b[1;33m\u001b[0m\u001b[0m\n\u001b[0m\u001b[0;32m     39\u001b[0m \u001b[1;33m\u001b[0m\u001b[0m\n\u001b[0;32m     40\u001b[0m \u001b[1;31m# # initiate RMSprop optimizer\u001b[0m\u001b[1;33m\u001b[0m\u001b[1;33m\u001b[0m\u001b[1;33m\u001b[0m\u001b[0m\n",
      "\u001b[1;32mc:\\users\\mynam\\appdata\\local\\programs\\python\\python38\\lib\\site-packages\\tensorflow\\python\\keras\\engine\\training.py\u001b[0m in \u001b[0;36m_method_wrapper\u001b[1;34m(self, *args, **kwargs)\u001b[0m\n\u001b[0;32m    106\u001b[0m   \u001b[1;32mdef\u001b[0m \u001b[0m_method_wrapper\u001b[0m\u001b[1;33m(\u001b[0m\u001b[0mself\u001b[0m\u001b[1;33m,\u001b[0m \u001b[1;33m*\u001b[0m\u001b[0margs\u001b[0m\u001b[1;33m,\u001b[0m \u001b[1;33m**\u001b[0m\u001b[0mkwargs\u001b[0m\u001b[1;33m)\u001b[0m\u001b[1;33m:\u001b[0m\u001b[1;33m\u001b[0m\u001b[1;33m\u001b[0m\u001b[0m\n\u001b[0;32m    107\u001b[0m     \u001b[1;32mif\u001b[0m \u001b[1;32mnot\u001b[0m \u001b[0mself\u001b[0m\u001b[1;33m.\u001b[0m\u001b[0m_in_multi_worker_mode\u001b[0m\u001b[1;33m(\u001b[0m\u001b[1;33m)\u001b[0m\u001b[1;33m:\u001b[0m  \u001b[1;31m# pylint: disable=protected-access\u001b[0m\u001b[1;33m\u001b[0m\u001b[1;33m\u001b[0m\u001b[0m\n\u001b[1;32m--> 108\u001b[1;33m       \u001b[1;32mreturn\u001b[0m \u001b[0mmethod\u001b[0m\u001b[1;33m(\u001b[0m\u001b[0mself\u001b[0m\u001b[1;33m,\u001b[0m \u001b[1;33m*\u001b[0m\u001b[0margs\u001b[0m\u001b[1;33m,\u001b[0m \u001b[1;33m**\u001b[0m\u001b[0mkwargs\u001b[0m\u001b[1;33m)\u001b[0m\u001b[1;33m\u001b[0m\u001b[1;33m\u001b[0m\u001b[0m\n\u001b[0m\u001b[0;32m    109\u001b[0m \u001b[1;33m\u001b[0m\u001b[0m\n\u001b[0;32m    110\u001b[0m     \u001b[1;31m# Running inside `run_distribute_coordinator` already.\u001b[0m\u001b[1;33m\u001b[0m\u001b[1;33m\u001b[0m\u001b[1;33m\u001b[0m\u001b[0m\n",
      "\u001b[1;31mTypeError\u001b[0m: fit() got an unexpected keyword argument 'nb_epoch'"
     ]
    }
   ],
   "source": [
    "# TODO: Model\n",
    "import matplotlib.pyplot as plt\n",
    "import numpy as np\n",
    "import tensorflow as tf\n",
    "tf.compat.v1.logging.set_verbosity(tf.compat.v1.logging.ERROR)\n",
    "from keras.models import Sequential\n",
    "from keras.layers import Dense, Dropout, Activation\n",
    "from keras.utils import np_utils\n",
    "from keras.datasets import cifar10\n",
    "from keras.optimizers import RMSprop\n",
    "\n",
    "#x_train =np.array([])\n",
    "x_train=[]\n",
    "y_train=[]\n",
    "\n",
    "i=0\n",
    "for i in range(len(featureDict['down'])):\n",
    "    x_train.append(featureDict['down'][i])\n",
    "    y_train.append(4)\n",
    "\n",
    "x_train = np.array(x_train)\n",
    "y_train = np.array(y_train).reshape(len(featureDict['down']),1)\n",
    "\n",
    "\n",
    "# trainingIndex = 0\n",
    "model = Sequential()\n",
    "\n",
    "model.add(Dense(12, activation='sigmoid', input_shape=(x_train.shape)))\n",
    "model.add(Dense(10, activation='softmax'))\n",
    "model.add(Dense(1, activation='sigmoid'))\n",
    "\n",
    "opt = RMSprop(lr=0.0001, decay=1e-6)\n",
    "\n",
    "# Let's train the model using RMSprop\n",
    "model.compile(loss='categorical_crossentropy',\n",
    "              optimizer=opt,\n",
    "              metrics=['accuracy'])\n",
    "model.fit(x_train, y_train, nb_epoch=150, batch_size=10)\n",
    "\n",
    "# # initiate RMSprop optimizer\n",
    "# opt = RMSprop(lr=0.0001, decay=1e-6)\n",
    "\n",
    "# # Let's train the model using RMSprop\n",
    "# model.compile(loss='categorical_crossentropy',\n",
    "#               optimizer=opt,\n",
    "#               metrics=['accuracy'])\n",
    "\n",
    "# model.fit(X_train_flatten, Y_train_class, batch_size=32, epochs=10)\n",
    "\n",
    "# score = model.evaluate(X_test_flatten, Y_test_class, verbose=0)\n",
    "# print('Test loss:', score[0])\n",
    "# print('Test accuracy:', score[1])"
   ]
  },
  {
   "cell_type": "code",
   "execution_count": 191,
   "metadata": {},
   "outputs": [
    {
     "name": "stdout",
     "output_type": "stream",
     "text": [
      "(25, 12)\n",
      "[[4]\n",
      " [4]\n",
      " [4]\n",
      " [4]\n",
      " [4]\n",
      " [4]\n",
      " [4]\n",
      " [4]\n",
      " [4]\n",
      " [4]\n",
      " [4]\n",
      " [4]\n",
      " [4]\n",
      " [4]\n",
      " [4]\n",
      " [4]\n",
      " [4]\n",
      " [4]\n",
      " [4]\n",
      " [4]\n",
      " [4]\n",
      " [4]\n",
      " [4]\n",
      " [4]\n",
      " [4]]\n",
      "(25, 1)\n"
     ]
    }
   ],
   "source": [
    "# print(x_train)\n",
    "print(x_train.shape)\n",
    "print(y_train)\n",
    "print(y_train.shape)"
   ]
  },
  {
   "cell_type": "code",
   "execution_count": null,
   "metadata": {},
   "outputs": [],
   "source": []
  }
 ],
 "metadata": {
  "kernelspec": {
   "display_name": "Python 3",
   "language": "python",
   "name": "python3"
  },
  "language_info": {
   "codemirror_mode": {
    "name": "ipython",
    "version": 3
   },
   "file_extension": ".py",
   "mimetype": "text/x-python",
   "name": "python",
   "nbconvert_exporter": "python",
   "pygments_lexer": "ipython3",
   "version": "3.8.1"
  }
 },
 "nbformat": 4,
 "nbformat_minor": 1
}
