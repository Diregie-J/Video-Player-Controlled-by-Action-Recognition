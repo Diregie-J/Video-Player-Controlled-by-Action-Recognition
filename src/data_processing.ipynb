{
 "cells": [
  {
   "cell_type": "code",
   "execution_count": 1,
   "metadata": {},
   "outputs": [
    {
     "name": "stdout",
     "output_type": "stream",
     "text": [
      "a\n"
     ]
    }
   ],
   "source": [
    "# Test\n",
    "print('a')"
   ]
  },
  {
   "cell_type": "code",
   "execution_count": 148,
   "metadata": {},
   "outputs": [
    {
     "name": "stdout",
     "output_type": "stream",
     "text": [
      "C:\\Users\\mynam\\Documents\\GitHub\\Video-Player-Controlled-by-Action-Recognition\\src\\Dataset\\hyqData\\down\n",
      "[19, 96, 50, 0]\n",
      "300\n",
      "50\n"
     ]
    }
   ],
   "source": [
    "import csv\n",
    "import glob, os\n",
    "import pandas as pd\n",
    "\n",
    "# locate folers\n",
    "filePath = os.path.abspath('./Dataset/hyqData/down')\n",
    "\n",
    "print(filePath)\n",
    "\n",
    "# open csv\n",
    "#path = filePath.replace('py_file','../down1.csv')\n",
    "\n",
    "file = glob.glob(os.path.join(filePath, \"*.csv\"))\n",
    "\n",
    "dl = []\n",
    "for f in file:\n",
    "    dl.append(pd.read_csv(f, header=None))\n",
    "    \n",
    "    \n",
    "print(dl[0].values.tolist()[3])\n",
    "\n",
    "# obtain each EMG channel data\n",
    "emg_1=[]\n",
    "emg_2=[]\n",
    "emg_3=[]\n",
    "i=0\n",
    "for i in range(len(dl[0].values.tolist())):\n",
    "    emg_1.append(dl[0].values.tolist()[i][0])\n",
    "    emg_2.append(dl[0].values.tolist()[i][1])\n",
    "    emg_3.append(dl[0].values.tolist()[i][2])\n",
    "    i=i+1\n",
    "\n",
    "\n",
    "print(len(emg_3))\n",
    "print(emg_3[3])"
   ]
  },
  {
   "cell_type": "code",
   "execution_count": null,
   "metadata": {},
   "outputs": [],
   "source": [
    "# TODO: label"
   ]
  },
  {
   "cell_type": "code",
   "execution_count": 149,
   "metadata": {},
   "outputs": [
    {
     "name": "stdout",
     "output_type": "stream",
     "text": [
      "39.693333333333335 55.17666666666667 74.89666666666666\n",
      "499 522 1652\n",
      "219 196 215\n",
      "46.753894668430206 64.37931862536809 170.15286264611203\n"
     ]
    }
   ],
   "source": [
    "# calculate time-domain features\n",
    "\n",
    "import math\n",
    "import numpy as np\n",
    "\n",
    "# Mean Absolute Value\n",
    "MAV_emg_1 = 0\n",
    "MAV_emg_2 = 0\n",
    "MAV_emg_3 = 0\n",
    "# Wavelength\n",
    "WL_emg_1 = 0\n",
    "WL_emg_2 = 0\n",
    "WL_emg_3 = 0\n",
    "# Slope Sign Changes\n",
    "SSCthreshold = 0 # TODO: detemine the threshold\n",
    "SSC_emg_1 = 0\n",
    "SSC_emg_2 = 0\n",
    "SSC_emg_3 = 0\n",
    "# Zero Crossing: we don't have, do we?\n",
    "ZC_emg_1 = 0\n",
    "ZC_emg_2 = 0\n",
    "ZC_emg_3 = 0\n",
    "# Root Mean Square\n",
    "RMS_emg_1 = 0.0\n",
    "RMS_emg_2 = 0.0\n",
    "RMS_emg_3 = 0.0\n",
    "\n",
    "i=0\n",
    "temp1=0\n",
    "temp2=0\n",
    "temp3=0\n",
    "temp4=0\n",
    "temp5=0\n",
    "temp6=0\n",
    "temp7=0.0\n",
    "temp8=0.0\n",
    "temp9=0.0\n",
    "for i in range(len(emg_3)):\n",
    "    temp1 = temp1 + abs(int(emg_1[i]))\n",
    "    temp2 = temp2 + abs(int(emg_2[i]))\n",
    "    temp3 = temp3 + abs(int(emg_3[i]))\n",
    "    temp7 = temp7 + (int(emg_1[i]))**2\n",
    "    temp8 = temp8 + (int(emg_2[i]))**2\n",
    "    temp9 = temp9 + (int(emg_3[i]))**2\n",
    "    \n",
    "    if(i>0):\n",
    "        WL_emg_1 = WL_emg_1 + abs(int(emg_1[i]) - int(emg_1[i-1]))\n",
    "        WL_emg_2 = WL_emg_2 + abs(int(emg_2[i]) - int(emg_2[i-1]))\n",
    "        WL_emg_3 = WL_emg_3 + abs(int(emg_3[i]) - int(emg_3[i-1]))\n",
    "        \n",
    "    if(i>1):\n",
    "        temp4 = (int(emg_1[i-1]) - int(emg_1[i-2])) * (int(emg_1[i-1]) - int(emg_1[i]))\n",
    "        temp5 = (int(emg_2[i-1]) - int(emg_2[i-2])) * (int(emg_2[i-1]) - int(emg_2[i]))\n",
    "        temp6 = (int(emg_3[i-1]) - int(emg_3[i-2])) * (int(emg_3[i-1]) - int(emg_3[i]))\n",
    "        if temp4 >= SSCthreshold:\n",
    "            SSC_emg_1 = SSC_emg_1 + 1\n",
    "        if temp5 >= SSCthreshold:\n",
    "            SSC_emg_2 = SSC_emg_2 + 1\n",
    "        if temp6 >= SSCthreshold:\n",
    "            SSC_emg_3 = SSC_emg_3 + 1\n",
    "\n",
    "        \n",
    "    \n",
    "MAV_emg_1 = temp1/len(emg_1)\n",
    "MAV_emg_2 = temp2/len(emg_2)\n",
    "MAV_emg_3 = temp3/len(emg_3)\n",
    "\n",
    "RMS_emg_1 = math.sqrt(temp7/len(emg_1))\n",
    "RMS_emg_2 = math.sqrt(temp8/len(emg_2))\n",
    "RMS_emg_3 = math.sqrt(temp9/len(emg_3))\n",
    "\n",
    "print(MAV_emg_1, MAV_emg_2, MAV_emg_3)\n",
    "\n",
    "print(WL_emg_1, WL_emg_2, WL_emg_3)\n",
    "\n",
    "print(SSC_emg_1, SSC_emg_2, SSC_emg_3)\n",
    "\n",
    "print(RMS_emg_1, RMS_emg_2, RMS_emg_3)\n"
   ]
  },
  {
   "cell_type": "code",
   "execution_count": null,
   "metadata": {},
   "outputs": [],
   "source": []
  },
  {
   "cell_type": "code",
   "execution_count": null,
   "metadata": {},
   "outputs": [],
   "source": []
  }
 ],
 "metadata": {
  "kernelspec": {
   "display_name": "Python 3",
   "language": "python",
   "name": "python3"
  },
  "language_info": {
   "codemirror_mode": {
    "name": "ipython",
    "version": 3
   },
   "file_extension": ".py",
   "mimetype": "text/x-python",
   "name": "python",
   "nbconvert_exporter": "python",
   "pygments_lexer": "ipython3",
   "version": "3.8.1"
  }
 },
 "nbformat": 4,
 "nbformat_minor": 1
}
