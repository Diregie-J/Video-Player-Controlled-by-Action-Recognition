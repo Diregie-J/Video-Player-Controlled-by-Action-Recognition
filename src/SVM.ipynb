{
  "nbformat": 4,
  "nbformat_minor": 0,
  "metadata": {
    "colab": {
      "name": "SVM.ipynb",
      "provenance": []
    },
    "kernelspec": {
      "name": "python3",
      "display_name": "Python 3"
    }
  },
  "cells": [
    {
      "cell_type": "code",
      "metadata": {
        "id": "k-1wyuh26Jl1"
      },
      "source": [
        "import csv\r\n",
        "import glob, os\r\n",
        "import pandas as pd\r\n",
        "import matplotlib.pyplot as plt\r\n",
        "import math\r\n",
        "import numpy as np\r\n",
        "from scipy import signal\r\n",
        "from scipy.fft import fft, ifft, fftfreq"
      ],
      "execution_count": 5,
      "outputs": []
    },
    {
      "cell_type": "code",
      "metadata": {
        "colab": {
          "base_uri": "https://localhost:8080/"
        },
        "id": "n675Mnbv6ZYe",
        "outputId": "5aee9199-8dda-4659-e830-277e17ce02c7"
      },
      "source": [
        "# csv reader (faster)\r\n",
        "emg_1_csv={'d': [] , 'u': [], 'l': [], 'r': [], 'f': []}\r\n",
        "emg_2_csv={'d': [] , 'u': [], 'l': [], 'r': [], 'f': []}\r\n",
        "emg_3_csv={'d': [] , 'u': [], 'l': [], 'r': [], 'f': []}\r\n",
        "actionList = ['d', 'u', 'l', 'r', 'f']\r\n",
        "\r\n",
        "\r\n",
        "# folderPath_hyq = os.path.abspath('./Dataset/new/hyqData/')\r\n",
        "# folderPath_zjh = os.path.abspath('./Dataset/new/zjhData/')\r\n",
        "folderPath_sgf = os.path.abspath('data/')\r\n",
        "\r\n",
        "filePathList=[]\r\n",
        "# filePathList.append(glob.glob(os.path.join(folderPath_hyq, \"*.csv\")))\r\n",
        "# filePathList.append(glob.glob(os.path.join(folderPath_zjh, \"*.csv\")))\r\n",
        "filePathList.append(glob.glob(os.path.join(folderPath_sgf, \"*.csv\")))\r\n",
        "\r\n",
        "\r\n",
        "for filePathListIndex in filePathList:\r\n",
        "    csvData={'d': [] , 'u': [], 'l': [], 'r': [], 'f': []}\r\n",
        "    dl=[]\r\n",
        "    print('Reading .csv:')\r\n",
        "    for f in filePathListIndex:\r\n",
        "        csvData[f[-5]] = pd.read_csv(f, header=None).values.tolist()\r\n",
        "        # print(f[-5])\r\n",
        "\r\n",
        "    print(len(csvData['d']))\r\n",
        "    print(len(csvData['u']))\r\n",
        "    print(len(csvData['l']))\r\n",
        "    print(len(csvData['r']))\r\n",
        "    print(len(csvData['f']))\r\n",
        "    print('Separating EMG signal channels:')\r\n",
        "    for currentAction in actionList:\r\n",
        "        # print(currentAction)\r\n",
        "        for row in range(len(csvData[currentAction])):\r\n",
        "            emg_1_csv[currentAction].append(csvData[currentAction][row][0])\r\n",
        "            emg_2_csv[currentAction].append(csvData[currentAction][row][1])\r\n",
        "            emg_3_csv[currentAction].append(csvData[currentAction][row][2])\r\n",
        "\r\n",
        "\r\n",
        "\r\n",
        "print('Lengths of each action: (down, up, left, right, and fist)')\r\n",
        "print(len(emg_1_csv['d']))\r\n",
        "print(len(emg_2_csv['d']))\r\n",
        "print(len(emg_3_csv['d']))\r\n",
        "print(len(emg_1_csv['u']))\r\n",
        "print(len(emg_2_csv['u']))\r\n",
        "print(len(emg_3_csv['u']))\r\n",
        "print(len(emg_1_csv['l']))\r\n",
        "print(len(emg_2_csv['l']))\r\n",
        "print(len(emg_3_csv['l']))\r\n",
        "print(len(emg_1_csv['r']))\r\n",
        "print(len(emg_2_csv['r']))\r\n",
        "print(len(emg_3_csv['r']))\r\n",
        "print(len(emg_1_csv['f']))\r\n",
        "print(len(emg_2_csv['f']))\r\n",
        "print(len(emg_3_csv['f']))\r\n",
        "\r\n",
        "\r\n"
      ],
      "execution_count": 6,
      "outputs": [
        {
          "output_type": "stream",
          "text": [
            "Reading .csv:\n",
            "16643\n",
            "15948\n",
            "16200\n",
            "13500\n",
            "16667\n",
            "Separating EMG signal channels:\n",
            "Lengths of each action: (down, up, left, right, and fist)\n",
            "16643\n",
            "16643\n",
            "16643\n",
            "15948\n",
            "15948\n",
            "15948\n",
            "16200\n",
            "16200\n",
            "16200\n",
            "13500\n",
            "13500\n",
            "13500\n",
            "16667\n",
            "16667\n",
            "16667\n"
          ],
          "name": "stdout"
        }
      ]
    },
    {
      "cell_type": "code",
      "metadata": {
        "colab": {
          "base_uri": "https://localhost:8080/",
          "height": 698
        },
        "id": "FJ7oZZ806lVR",
        "outputId": "aa9154fd-32b3-496e-92ea-61fa2e6bfa12"
      },
      "source": [
        "\r\n",
        "record_length=300\r\n",
        "window_length=100\r\n",
        "window_1=50\r\n",
        "window_2=40\r\n",
        "window_3=30\r\n",
        "\r\n",
        "emg_1_window={'d': {} , 'u': {}, 'l': {}, 'r': {}, 'f': {}}\r\n",
        "emg_2_window={'d': {} , 'u': {}, 'l': {}, 'r': {}, 'f': {}}\r\n",
        "emg_3_window={'d': {} , 'u': {}, 'l': {}, 'r': {}, 'f': {}}\r\n",
        "\r\n",
        "for actionIndex in range(len(actionList)):\r\n",
        "    print('Loading: '+actionList[actionIndex])\r\n",
        "  \r\n",
        "    emg_1_slice = [emg_1_csv[actionList[actionIndex]][i:i+record_length] for i in range(0,len(emg_1_csv[actionList[actionIndex]]),record_length)]\r\n",
        "    emg_2_slice = [emg_2_csv[actionList[actionIndex]][i:i+record_length] for i in range(0,len(emg_2_csv[actionList[actionIndex]]),record_length)]\r\n",
        "    emg_3_slice = [emg_3_csv[actionList[actionIndex]][i:i+record_length] for i in range(0,len(emg_3_csv[actionList[actionIndex]]),record_length)]\r\n",
        "\r\n",
        "    print(len(emg_1_slice))\r\n",
        "    print(len(emg_2_slice))\r\n",
        "    print(len(emg_3_slice))\r\n",
        "    \r\n",
        "\r\n",
        "    generatedIndex=0\r\n",
        "    for i in range(len(emg_1_slice)-1):\r\n",
        "        max_1 = emg_1_slice[i].index(max(emg_1_slice[i]))\r\n",
        "        max_2 = emg_2_slice[i].index(max(emg_2_slice[i]))\r\n",
        "        max_3 = emg_3_slice[i].index(max(emg_3_slice[i]))\r\n",
        "        avgMax=int((max_1+max_2+max_3)/3)\r\n",
        "        \r\n",
        "        if max_1>window_1 and max_1<record_length-window_1 and max_2>window_1 and max_2<record_length-window_1 and max_3>window_1 and max_3<record_length-window_1:\r\n",
        "            \r\n",
        "            emg_1_window[actionList[actionIndex]][generatedIndex] = emg_1_slice[i][avgMax-window_1:avgMax+(window_length-window_1)]\r\n",
        "            emg_2_window[actionList[actionIndex]][generatedIndex] = emg_2_slice[i][avgMax-window_1:avgMax+(window_length-window_1)]\r\n",
        "            emg_3_window[actionList[actionIndex]][generatedIndex] = emg_3_slice[i][avgMax-window_1:avgMax+(window_length-window_1)]\r\n",
        "            generatedIndex+=1\r\n",
        "        if max_1>window_2 and max_1<record_length-window_2 and max_2>window_2 and max_2<record_length-window_2 and max_3>window_2 and max_3<record_length-window_2:\r\n",
        "            emg_1_window[actionList[actionIndex]][generatedIndex] = emg_1_slice[i][avgMax-window_2:avgMax+(window_length-window_2)]\r\n",
        "            emg_2_window[actionList[actionIndex]][generatedIndex] = emg_2_slice[i][avgMax-window_2:avgMax+(window_length-window_2)]\r\n",
        "            emg_3_window[actionList[actionIndex]][generatedIndex] = emg_3_slice[i][avgMax-window_2:avgMax+(window_length-window_2)]\r\n",
        "            generatedIndex+=1\r\n",
        "        if max_1>window_3 and max_1<record_length-window_3 and max_2>window_3 and max_2<record_length-window_3 and max_3>window_3 and max_3<record_length-window_3:\r\n",
        "            emg_1_window[actionList[actionIndex]][generatedIndex] = emg_1_slice[i][avgMax-window_3:avgMax+(window_length-window_3)]\r\n",
        "            emg_2_window[actionList[actionIndex]][generatedIndex] = emg_2_slice[i][avgMax-window_3:avgMax+(window_length-window_3)]\r\n",
        "            emg_3_window[actionList[actionIndex]][generatedIndex] = emg_3_slice[i][avgMax-window_3:avgMax+(window_length-window_3)]\r\n",
        "            generatedIndex+=1\r\n",
        "\r\n",
        "            \r\n",
        "plt.plot(emg_1_window['d'][0])\r\n",
        "plt.plot(emg_2_window['d'][0])\r\n",
        "plt.plot(emg_3_window['d'][0])\r\n",
        "plt.legend(['Channel 1', 'Channel 2', 'Channel 3'])\r\n",
        "plt.xlabel('Samples')\r\n",
        "plt.ylabel('ADC Value')\r\n",
        "plt.grid()\r\n",
        "plt.show()\r\n",
        "\r\n",
        "print(len(emg_1_window['d']))\r\n",
        "print(len(emg_1_window['u']))\r\n",
        "print(len(emg_1_window['l']))\r\n",
        "print(len(emg_1_window['r']))\r\n",
        "print(len(emg_1_window['f']))"
      ],
      "execution_count": 7,
      "outputs": [
        {
          "output_type": "stream",
          "text": [
            "Loading: d\n",
            "56\n",
            "56\n",
            "56\n",
            "Loading: u\n",
            "54\n",
            "54\n",
            "54\n",
            "Loading: l\n",
            "54\n",
            "54\n",
            "54\n",
            "Loading: r\n",
            "45\n",
            "45\n",
            "45\n",
            "Loading: f\n",
            "56\n",
            "56\n",
            "56\n"
          ],
          "name": "stdout"
        },
        {
          "output_type": "display_data",
          "data": {
            "image/png": "[encoded data removed]",
            "text/plain": [
              "<Figure size 432x288 with 1 Axes>"
            ]
          },
          "metadata": {
            "tags": [],
            "needs_background": "light"
          }
        },
        {
          "output_type": "stream",
          "text": [
            "155\n",
            "142\n",
            "151\n",
            "81\n",
            "130\n"
          ],
          "name": "stdout"
        }
      ]
    },
    {
      "cell_type": "code",
      "metadata": {
        "colab": {
          "base_uri": "https://localhost:8080/"
        },
        "id": "uMR0dR3d6vY8",
        "outputId": "b35987d5-33ce-45d0-d077-b2e0a41dedb2"
      },
      "source": [
        "# feature extraction\r\n",
        "\r\n",
        "featureDict = {'d': {} , 'u': {}, 'l': {}, 'r': {}, 'f': {}}\r\n",
        "featureList = []\r\n",
        "\r\n",
        "fs = 100 # sample frequency\r\n",
        "T = 1/fs # sample rate\r\n",
        "\r\n",
        "\r\n",
        "for actionIndex in range(len(actionList)):\r\n",
        "    emg_1=[]\r\n",
        "    emg_2=[]\r\n",
        "    emg_3=[]\r\n",
        "    print(actionList[actionIndex])\r\n",
        "    for row in range(len(emg_1_window[actionList[actionIndex]])):\r\n",
        "        emg_1=emg_1_window[actionList[actionIndex]][row]\r\n",
        "        emg_2=emg_2_window[actionList[actionIndex]][row]\r\n",
        "        emg_3=emg_3_window[actionList[actionIndex]][row]\r\n",
        "        \r\n",
        "        ### calculate time-domain features for every csv file\r\n",
        "\r\n",
        "        # Mean Absolute Value\r\n",
        "        mav_emg_1 = 0\r\n",
        "        mav_emg_2 = 0\r\n",
        "        mav_emg_3 = 0\r\n",
        "        # Wavelength\r\n",
        "        wl_emg_1 = 0\r\n",
        "        wl_emg_2 = 0\r\n",
        "        wl_emg_3 = 0\r\n",
        "        # Slope Sign Changes\r\n",
        "        sscThreshold = 0 # TODO: detemine the threshold\r\n",
        "        ssc_emg_1 = 0\r\n",
        "        ssc_emg_2 = 0\r\n",
        "        ssc_emg_3 = 0\r\n",
        "        # Zero Crossing: we don't have, do we?\r\n",
        "        zc_emg_1 = 0\r\n",
        "        zc_emg_2 = 0\r\n",
        "        zc_emg_3 = 0\r\n",
        "        # Root Mean Square\r\n",
        "        rms_emg_1 = 0.0\r\n",
        "        rms_emg_2 = 0.0\r\n",
        "        rms_emg_3 = 0.0\r\n",
        "        # frequency-domain features\r\n",
        "        # Mean Frequency\r\n",
        "        meanFreq_emg_1 = 0.0\r\n",
        "        meanFreq_emg_2 = 0.0\r\n",
        "        meanFreq_emg_3 = 0.0\r\n",
        "        # Median Frequency\r\n",
        "        medianFreq_emg_1 = 0.0\r\n",
        "        medianFreq_emg_2 = 0.0\r\n",
        "        medianFreq_emg_3 = 0.0\r\n",
        "        # Mean Power\r\n",
        "        meanPower_emg_1 = 0.0\r\n",
        "        meanPower_emg_2 = 0.0\r\n",
        "        meanPower_emg_3 = 0.0\r\n",
        "        # Variance of Central Frequency\r\n",
        "        vcf_emg_1 = 0.0\r\n",
        "        vcf_emg_2 = 0.0\r\n",
        "        vcf_emg_3 = 0.0\r\n",
        "\r\n",
        "        # some temporary variables\r\n",
        "\r\n",
        "        abs_sum_temp1=0\r\n",
        "        abs_sum_temp2=0\r\n",
        "        abs_sum_temp3=0\r\n",
        "        ssc_temp1=0\r\n",
        "        ssc_temp2=0\r\n",
        "        ssc_temp3=0\r\n",
        "        rms_temp1=0.0\r\n",
        "        rms_temp2=0.0\r\n",
        "        rms_temp3=0.0\r\n",
        "\r\n",
        "        freqs_temp1, psd_temp1 = signal.welch(emg_1, fs)\r\n",
        "        freqs_temp2, psd_temp2 = signal.welch(emg_2, fs)\r\n",
        "        freqs_temp3, psd_temp3 = signal.welch(emg_3, fs)\r\n",
        "        nominatorValue_temp1=0\r\n",
        "        nominatorValue_temp2=0\r\n",
        "        nominatorValue_temp3=0\r\n",
        "        denominatorValue_temp1=0\r\n",
        "        denominatorValue_temp2=0\r\n",
        "        denominatorValue_temp3=0\r\n",
        "        sm2_temp1=0\r\n",
        "        sm2_temp2=0\r\n",
        "        sm2_temp3=0\r\n",
        "\r\n",
        "        i=0\r\n",
        "        for i in range(len(emg_3)):\r\n",
        "            abs_sum_temp1 = abs_sum_temp1 + abs(int(emg_1[i]))\r\n",
        "            abs_sum_temp2 = abs_sum_temp2 + abs(int(emg_2[i]))\r\n",
        "            abs_sum_temp3 = abs_sum_temp3 + abs(int(emg_3[i]))\r\n",
        "\r\n",
        "            rms_temp1 = rms_temp1 + (int(emg_1[i]))**2\r\n",
        "            rms_temp2 = rms_temp2 + (int(emg_2[i]))**2\r\n",
        "            rms_temp3 = rms_temp3 + (int(emg_3[i]))**2\r\n",
        "\r\n",
        "            if(i>0):\r\n",
        "                wl_emg_1 = wl_emg_1 + abs(int(emg_1[i]) - int(emg_1[i-1]))\r\n",
        "                wl_emg_2 = wl_emg_2 + abs(int(emg_2[i]) - int(emg_2[i-1]))\r\n",
        "                wl_emg_3 = wl_emg_3 + abs(int(emg_3[i]) - int(emg_3[i-1]))\r\n",
        "            if(i>1):\r\n",
        "                ssc_temp1 = (int(emg_1[i-1]) - int(emg_1[i-2])) * (int(emg_1[i-1]) - int(emg_1[i]))\r\n",
        "                ssc_temp2 = (int(emg_2[i-1]) - int(emg_2[i-2])) * (int(emg_2[i-1]) - int(emg_2[i]))\r\n",
        "                ssc_temp3 = (int(emg_3[i-1]) - int(emg_3[i-2])) * (int(emg_3[i-1]) - int(emg_3[i]))\r\n",
        "                if ssc_temp1 >= sscThreshold:\r\n",
        "                    ssc_emg_1 = ssc_emg_1 + 1\r\n",
        "                if ssc_temp2 >= sscThreshold:\r\n",
        "                    ssc_emg_2 = ssc_emg_2 + 1\r\n",
        "                if ssc_temp3 >= sscThreshold:\r\n",
        "                    ssc_emg_3 = ssc_emg_3 + 1\r\n",
        "\r\n",
        "            mav_emg_1 = abs_sum_temp1/len(emg_1)\r\n",
        "            mav_emg_2 = abs_sum_temp2/len(emg_2)\r\n",
        "            mav_emg_3 = abs_sum_temp3/len(emg_3)\r\n",
        "\r\n",
        "            rms_emg_1 = math.sqrt(rms_temp1/len(emg_1))\r\n",
        "            rms_emg_2 = math.sqrt(rms_temp2/len(emg_2))\r\n",
        "            rms_emg_3 = math.sqrt(rms_temp3/len(emg_3))\r\n",
        "\r\n",
        "        j=0\r\n",
        "        for j in range(len(freqs_temp1)):\r\n",
        "            nominatorValue_temp1 += freqs_temp1[j]*psd_temp1[j]\r\n",
        "            nominatorValue_temp2 += freqs_temp2[j]*psd_temp2[j]\r\n",
        "            nominatorValue_temp3 += freqs_temp3[j]*psd_temp3[j]\r\n",
        "            denominatorValue_temp1 += psd_temp1[j]\r\n",
        "            denominatorValue_temp2 += psd_temp2[j]\r\n",
        "            denominatorValue_temp3 += psd_temp3[j]\r\n",
        "            sm2_temp1 += np.square(freqs_temp1[j])*psd_temp1[j]\r\n",
        "            sm2_temp2 += np.square(freqs_temp2[j])*psd_temp2[j]\r\n",
        "            sm2_temp3 += np.square(freqs_temp3[j])*psd_temp3[j]\r\n",
        "\r\n",
        "        meanFreq_emg_1 = nominatorValue_temp1/denominatorValue_temp1\r\n",
        "        meanFreq_emg_2 = nominatorValue_temp2/denominatorValue_temp2\r\n",
        "        meanFreq_emg_3 = nominatorValue_temp3/denominatorValue_temp3\r\n",
        "\r\n",
        "        medianFreq_emg_1 = freqs_temp1[np.argsort(psd_temp1)[len(psd_temp1)//2]]\r\n",
        "        medianFreq_emg_2 = freqs_temp2[np.argsort(psd_temp2)[len(psd_temp2)//2]]\r\n",
        "        medianFreq_emg_3 = freqs_temp3[np.argsort(psd_temp3)[len(psd_temp3)//2]]\r\n",
        "\r\n",
        "        meanPower_emg_1 = denominatorValue_temp1/len(freqs_temp1)\r\n",
        "        meanPower_emg_2 = denominatorValue_temp2/len(freqs_temp2)\r\n",
        "        meanPower_emg_3 = denominatorValue_temp3/len(freqs_temp3)\r\n",
        "\r\n",
        "        vcf_emg_1 = sm2_temp1/denominatorValue_temp1 - np.square(nominatorValue_temp1/denominatorValue_temp1)\r\n",
        "        vcf_emg_2 = sm2_temp2/denominatorValue_temp2 - np.square(nominatorValue_temp2/denominatorValue_temp2)\r\n",
        "        vcf_emg_3 = sm2_temp3/denominatorValue_temp3 - np.square(nominatorValue_temp3/denominatorValue_temp3)\r\n",
        "        \r\n",
        "#         print('check')\r\n",
        "#         featureDict[actionList[actionIndex]][row] = [mav_emg_1, mav_emg_2, mav_emg_3, \r\n",
        "#                                                             wl_emg_1, wl_emg_2, wl_emg_3, \r\n",
        "#                                                             ssc_emg_1, ssc_emg_2, ssc_emg_3, \r\n",
        "#                                                             rms_emg_1, rms_emg_2, rms_emg_3]\r\n",
        "        featureDict[actionList[actionIndex]][row] = [mav_emg_1, mav_emg_2, mav_emg_3, \r\n",
        "                                                            wl_emg_1, wl_emg_2, wl_emg_3, \r\n",
        "                                                            ssc_emg_1, ssc_emg_2, ssc_emg_3, \r\n",
        "                                                            rms_emg_1, rms_emg_2, rms_emg_3, \r\n",
        "                                                            meanFreq_emg_1, meanFreq_emg_2, meanFreq_emg_3,\r\n",
        "                                                            medianFreq_emg_1, medianFreq_emg_2, medianFreq_emg_3,\r\n",
        "                                                            meanPower_emg_1, meanPower_emg_2, meanPower_emg_3,\r\n",
        "                                                            vcf_emg_1, vcf_emg_2, vcf_emg_3]\r\n",
        "\r\n",
        "\r\n",
        "\r\n",
        "\r\n",
        "print('Loading completed')"
      ],
      "execution_count": 8,
      "outputs": [
        {
          "output_type": "stream",
          "text": [
            "d\n"
          ],
          "name": "stdout"
        },
        {
          "output_type": "stream",
          "text": [
            "/usr/local/lib/python3.7/dist-packages/scipy/signal/spectral.py:1966: UserWarning: nperseg = 256 is greater than input length  = 100, using nperseg = 100\n",
            "  .format(nperseg, input_length))\n"
          ],
          "name": "stderr"
        },
        {
          "output_type": "stream",
          "text": [
            "u\n",
            "l\n",
            "r\n",
            "f\n",
            "Loading completed\n"
          ],
          "name": "stdout"
        },
        {
          "output_type": "stream",
          "text": [
            "/usr/local/lib/python3.7/dist-packages/scipy/signal/spectral.py:1966: UserWarning: nperseg = 256 is greater than input length  = 81, using nperseg = 81\n",
            "  .format(nperseg, input_length))\n"
          ],
          "name": "stderr"
        }
      ]
    },
    {
      "cell_type": "code",
      "metadata": {
        "id": "79TVNXji60A2"
      },
      "source": [
        "# create labels for data samples\r\n",
        "from keras.models import Sequential\r\n",
        "from keras.layers import Dense, Activation\r\n",
        "from keras.optimizers import Adam, RMSprop\r\n",
        "from keras.layers import Conv1D, BatchNormalization\r\n",
        "from keras.utils import np_utils,normalize\r\n",
        "import matplotlib.pyplot as plt\r\n",
        "import numpy as np\r\n",
        "import tensorflow as tf\r\n",
        "tf.compat.v1.logging.set_verbosity(tf.compat.v1.logging.ERROR)\r\n",
        "tf.random.set_seed(1234)\r\n",
        "\r\n",
        "\r\n",
        "x_val=[]\r\n",
        "y_val=[]\r\n",
        "\r\n",
        "def labelSwitch(arg):\r\n",
        "    switcher = {\r\n",
        "        'l': 1,\r\n",
        "        'r': 2,\r\n",
        "        'u': 3,\r\n",
        "        'd': 4,\r\n",
        "        'f': 5\r\n",
        "    }\r\n",
        "    return switcher[arg]\r\n",
        "\r\n",
        "i=0\r\n",
        "j=''\r\n",
        "dictLength=0\r\n",
        "current = ['d', 'u', 'l', 'r', 'f']\r\n",
        "for j in range(len(current)):\r\n",
        "    for i in range(len(featureDict[current[j]])):\r\n",
        "        x_val.append(featureDict[current[j]][i])\r\n",
        "        y_val.append(labelSwitch(current[j]))\r\n",
        "        dictLength=dictLength+1\r\n",
        "\r\n",
        "x_val_array = np.array(x_val)\r\n",
        "# y_val_array = np.array(y_val).reshape(dictLength,1)\r\n",
        "y_val_array = np.array(y_val)\r\n",
        "x_val_array = normalize(x_val_array, axis = 1)\r\n",
        "\r\n",
        "state = np.random.get_state()\r\n",
        "np.random.shuffle(x_val_array)\r\n",
        "np.random.set_state(state)\r\n",
        "np.random.shuffle(y_val_array)\r\n",
        "\r\n",
        "TRAIN_SPLIT = int(0.6*x_val_array.shape[0])\r\n",
        "TEST_SPLIT = int(0.2*x_val_array.shape[0] + TRAIN_SPLIT)\r\n",
        "\r\n",
        "\r\n",
        "x_train, x_test, x_validate = np.split(x_val_array, [TRAIN_SPLIT, TEST_SPLIT])\r\n",
        "y_train, y_test, y_validate = np.split(y_val_array, [TRAIN_SPLIT, TEST_SPLIT])\r\n",
        "\r\n",
        "\r\n",
        "\r\n",
        "y_train_class = np_utils.to_categorical(y_train)\r\n",
        "y_test_class = np_utils.to_categorical(y_test)\r\n",
        "y_validate_class = np_utils.to_categorical(y_validate)\r\n",
        "\r\n",
        "\r\n",
        "#  see dataset volume\r\n",
        "\r\n",
        "# print(x_train.shape)\r\n",
        "# print(y_train_class.shape)\r\n",
        "# print(x_validate.shape)\r\n",
        "# print(y_validate_class.shape)\r\n",
        "# print(x_test.shape)\r\n",
        "# print(y_test_class.shape)"
      ],
      "execution_count": 9,
      "outputs": []
    },
    {
      "cell_type": "code",
      "metadata": {
        "colab": {
          "base_uri": "https://localhost:8080/"
        },
        "id": "VW12FQOj-L8w",
        "outputId": "f34f7785-1cc5-43d0-97df-544177c5b4f3"
      },
      "source": [
        "print(y_test[20])\r\n",
        "print(y_test_class[20])"
      ],
      "execution_count": 59,
      "outputs": [
        {
          "output_type": "stream",
          "text": [
            "2\n",
            "[0. 0. 1. 0. 0. 0.]\n"
          ],
          "name": "stdout"
        }
      ]
    },
    {
      "cell_type": "code",
      "metadata": {
        "colab": {
          "base_uri": "https://localhost:8080/"
        },
        "id": "SRppx7hR7Lmj",
        "outputId": "f5c1db6b-1f8b-4015-8282-21393dca77df"
      },
      "source": [
        "from sklearn.svm import SVC\r\n",
        "clf = SVC(C=100,kernel='rbf',gamma=0.1)\r\n",
        "clf.fit(x_train, y_train)"
      ],
      "execution_count": 46,
      "outputs": [
        {
          "output_type": "execute_result",
          "data": {
            "text/plain": [
              "SVC(C=100, break_ties=False, cache_size=200, class_weight=None, coef0=0.0,\n",
              "    decision_function_shape='ovr', degree=3, gamma=0.1, kernel='rbf',\n",
              "    max_iter=-1, probability=False, random_state=None, shrinking=True,\n",
              "    tol=0.001, verbose=False)"
            ]
          },
          "metadata": {
            "tags": []
          },
          "execution_count": 46
        }
      ]
    },
    {
      "cell_type": "markdown",
      "metadata": {
        "id": "OfsyLNnwR_AA"
      },
      "source": [
        "Test which kernel is the best:"
      ]
    },
    {
      "cell_type": "code",
      "metadata": {
        "colab": {
          "base_uri": "https://localhost:8080/"
        },
        "id": "vyeHBkY2Pn0e",
        "outputId": "16285991-1965-48fd-a861-4d2b5c5b680a"
      },
      "source": [
        "from sklearn.model_selection import GridSearchCV  \r\n",
        "grid = GridSearchCV(SVC(), param_grid={\"kernel\" : ['linear', 'rbf', 'poly']}, cv=4)  \r\n",
        "grid.fit(x_train, y_train)  \r\n",
        "print(\"The best parameters are %s with a score of %0.2f\" %(grid.best_params_, grid.best_score_))"
      ],
      "execution_count": 42,
      "outputs": [
        {
          "output_type": "stream",
          "text": [
            "The best parameters are {'kernel': 'poly'} with a score of 0.69\n"
          ],
          "name": "stdout"
        }
      ]
    },
    {
      "cell_type": "code",
      "metadata": {
        "colab": {
          "base_uri": "https://localhost:8080/"
        },
        "id": "8jTpw5EjNE-q",
        "outputId": "bfc5df93-e83e-4854-db74-264f2c9bf473"
      },
      "source": [
        "from sklearn.svm import SVC\r\n",
        "clf = SVC(kernel='poly',degree=9)\r\n",
        "clf.fit(x_train, y_train)"
      ],
      "execution_count": 56,
      "outputs": [
        {
          "output_type": "execute_result",
          "data": {
            "text/plain": [
              "SVC(C=1.0, break_ties=False, cache_size=200, class_weight=None, coef0=0.0,\n",
              "    decision_function_shape='ovr', degree=9, gamma='scale', kernel='poly',\n",
              "    max_iter=-1, probability=False, random_state=None, shrinking=True,\n",
              "    tol=0.001, verbose=False)"
            ]
          },
          "metadata": {
            "tags": []
          },
          "execution_count": 56
        }
      ]
    },
    {
      "cell_type": "markdown",
      "metadata": {
        "id": "GHfjra8zSHUZ"
      },
      "source": [
        "Choose degree for poly kernel:"
      ]
    },
    {
      "cell_type": "code",
      "metadata": {
        "colab": {
          "base_uri": "https://localhost:8080/"
        },
        "id": "eCkAIpEJRUV4",
        "outputId": "216cd10a-2caf-47b3-9338-3c14d825475b"
      },
      "source": [
        "from sklearn.model_selection import GridSearchCV  \r\n",
        "grid = GridSearchCV(SVC(kernel='poly'), param_grid={\"degree\":[0, 1, 2, 3, 4, 5, 6, 7, 8 ,9]}, cv=4)  \r\n",
        "grid.fit(x_train, y_train)  \r\n",
        "print(\"The best parameters are %s with a score of %0.2f\" %(grid.best_params_, grid.best_score_))"
      ],
      "execution_count": 55,
      "outputs": [
        {
          "output_type": "stream",
          "text": [
            "The best parameters are {'degree': 9} with a score of 0.84\n"
          ],
          "name": "stdout"
        }
      ]
    },
    {
      "cell_type": "markdown",
      "metadata": {
        "id": "OGhzdPk4SO6Y"
      },
      "source": [
        "Choose C and gamma for rbf kernel"
      ]
    },
    {
      "cell_type": "code",
      "metadata": {
        "colab": {
          "base_uri": "https://localhost:8080/"
        },
        "id": "JRR25yn7MWoc",
        "outputId": "bb49c9f7-e788-46f8-c0e7-f62d3c90988b"
      },
      "source": [
        "from sklearn.model_selection import GridSearchCV  \r\n",
        "grid = GridSearchCV(SVC(), param_grid={\"C\":[0.1, 1, 5, 10, 50,100], \"gamma\":[1,0.5, 0.1, 0.01]}, cv=10)  \r\n",
        "grid.fit(x_train, y_train)  \r\n",
        "print(\"The best parameters are %s with a score of %0.2f\" %(grid.best_params_, grid.best_score_))"
      ],
      "execution_count": 45,
      "outputs": [
        {
          "output_type": "stream",
          "text": [
            "The best parameters are {'C': 100, 'gamma': 1} with a score of 0.83\n"
          ],
          "name": "stdout"
        }
      ]
    },
    {
      "cell_type": "code",
      "metadata": {
        "colab": {
          "base_uri": "https://localhost:8080/"
        },
        "id": "4L3tJ_d9_dsN",
        "outputId": "b4877e1c-66c0-43a7-ad4b-dedc1e408c71"
      },
      "source": [
        "print('Train acc:'+str(clf.score(x_train, y_train))) \r\n",
        "print('Test acc:'+str(clf.score(x_test, y_test)))\r\n",
        "from sklearn.metrics import classification_report, confusion_matrix\r\n",
        "y_pred = clf.predict(x_test)\r\n",
        "print(confusion_matrix(y_test,y_pred))\r\n",
        "print(classification_report(y_test,y_pred))"
      ],
      "execution_count": 59,
      "outputs": [
        {
          "output_type": "stream",
          "text": [
            "Train acc:0.9493670886075949\n",
            "Test acc:0.8702290076335878\n",
            "[[34  0  0  0  0]\n",
            " [ 2  5  0  5  0]\n",
            " [ 0  0 21  1  1]\n",
            " [ 0  0  1 30  2]\n",
            " [ 2  1  1  1 24]]\n",
            "              precision    recall  f1-score   support\n",
            "\n",
            "           1       0.89      1.00      0.94        34\n",
            "           2       0.83      0.42      0.56        12\n",
            "           3       0.91      0.91      0.91        23\n",
            "           4       0.81      0.91      0.86        33\n",
            "           5       0.89      0.83      0.86        29\n",
            "\n",
            "    accuracy                           0.87       131\n",
            "   macro avg       0.87      0.81      0.83       131\n",
            "weighted avg       0.87      0.87      0.86       131\n",
            "\n"
          ],
          "name": "stdout"
        }
      ]
    }
  ]
}